{
 "cells": [
  {
   "cell_type": "code",
   "execution_count": 1,
   "id": "40f052f7",
   "metadata": {},
   "outputs": [
    {
     "name": "stderr",
     "output_type": "stream",
     "text": [
      "C:\\Users\\Burger Singh\\AppData\\Local\\Temp\\ipykernel_7108\\3635725759.py:5: DeprecationWarning: executable_path has been deprecated, please pass in a Service object\n",
      "  driver = webdriver.Chrome(executable_path=r\"C:\\Users\\Burger Singh\\Downloads\\chromedriver_win32 (4)\\chromedriver.exe\")  # specify the path to your chromedriver\n"
     ]
    },
    {
     "name": "stdout",
     "output_type": "stream",
     "text": [
      "                    Store Name  \\\n",
      "0             Sector 50, Noida   \n",
      "1             Sector 50, Noida   \n",
      "2             Sector 50, Noida   \n",
      "3             Sector 50, Noida   \n",
      "4  West Patel Nagar, New Delhi   \n",
      "5  West Patel Nagar, New Delhi   \n",
      "6  West Patel Nagar, New Delhi   \n",
      "7  West Patel Nagar, New Delhi   \n",
      "\n",
      "                                              Offer                  Code  \n",
      "0                                50% OFF up to ₹100    use code WELCOME50  \n",
      "1                                50% OFF up to ₹100     use code ZOMPAYTM  \n",
      "2                                20% OFF up to ₹150    use code INDUSFEST  \n",
      "3  50% OFF up to ₹100 + up to ₹150 LazyPay cashback  use code LAZYPAYFEST  \n",
      "4                                50% OFF up to ₹100    use code WELCOME50  \n",
      "5                                     Flat ₹150 OFF      use code FLAT150  \n",
      "6                                60% OFF up to ₹120     use code ZOMPAYTM  \n",
      "7                                20% OFF up to ₹150    use code INDUSFEST  \n"
     ]
    }
   ],
   "source": [
    "from selenium import webdriver\n",
    "from bs4 import BeautifulSoup\n",
    "import pandas as pd\n",
    "\n",
    "driver = webdriver.Chrome(executable_path=r\"C:\\Users\\Burger Singh\\Downloads\\chromedriver_win32 (4)\\chromedriver.exe\")  # specify the path to your chromedriver\n",
    "\n",
    "store_urls = [\"https://www.zomato.com/ncr/burger-singh-big-punjabi-burgers-sector-50-noida/order\",\n",
    "\"https://www.zomato.com/ncr/burger-singh-big-punjabi-burgers-west-patel-nagar-new-delhi/order\"]\n",
    "\n",
    "all_data = []\n",
    "\n",
    "for url in store_urls:\n",
    "    driver.get(url)\n",
    "    soup = BeautifulSoup(driver.page_source, 'html.parser')\n",
    "\n",
    "    # Find store name using Selenium and XPath\n",
    "    store_name = driver.find_element(\"xpath\",'/html/body/div[1]/div/main/div/section[3]/section/section/div/div/section[1]/a').text\n",
    "\n",
    "    offers = [offer.get_text() for offer in soup.find_all(\"div\",attrs={\"class\": \"sc-1a03l6b-0 lkqupg\"})]\n",
    "    codes = [code.get_text() for code in soup.find_all(\"div\",attrs={\"class\": \"sc-1a03l6b-1 kvnZBD\"})]\n",
    "    \n",
    "    max_len = max(len(offers), len(codes))\n",
    "    store_names = [store_name]*max_len\n",
    "    \n",
    "    if len(offers) < max_len:\n",
    "        offers += [None]*(max_len - len(offers))\n",
    "    if len(codes) < max_len:\n",
    "        codes += [None]*(max_len - len(codes))\n",
    "    \n",
    "    for data in zip(store_names, offers, codes):\n",
    "        all_data.append(data)\n",
    "\n",
    "df = pd.DataFrame(all_data, columns=['Store Name', 'Offer', 'Code'])\n",
    "\n",
    "print(df)\n",
    "\n",
    "driver.quit()  # don't forget to quit the driver"
   ]
  },
  {
   "cell_type": "code",
   "execution_count": null,
   "id": "30523a0d",
   "metadata": {},
   "outputs": [],
   "source": []
  },
  {
   "cell_type": "code",
   "execution_count": null,
   "id": "22da06b9",
   "metadata": {},
   "outputs": [],
   "source": []
  }
 ],
 "metadata": {
  "kernelspec": {
   "display_name": "Python 3 (ipykernel)",
   "language": "python",
   "name": "python3"
  },
  "language_info": {
   "codemirror_mode": {
    "name": "ipython",
    "version": 3
   },
   "file_extension": ".py",
   "mimetype": "text/x-python",
   "name": "python",
   "nbconvert_exporter": "python",
   "pygments_lexer": "ipython3",
   "version": "3.9.13"
  }
 },
 "nbformat": 4,
 "nbformat_minor": 5
}
